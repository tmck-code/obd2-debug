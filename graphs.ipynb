{
 "cells": [
  {
   "cell_type": "code",
   "execution_count": 1,
   "id": "5bd11fd5-1d40-406a-8c7e-d63e05a2d232",
   "metadata": {},
   "outputs": [],
   "source": [
    "import time\n",
    "import plotly.graph_objects as go\n",
    "\n",
    "data1 = list(range(100))\n",
    "data2 = list(range(50, 100))+[210]*50"
   ]
  },
  {
   "cell_type": "code",
   "execution_count": 2,
   "id": "a48359bf-0760-4c7d-973f-4a0aecbf432d",
   "metadata": {},
   "outputs": [],
   "source": [
    "def create_fig():\n",
    "    fig = go.FigureWidget()\n",
    "    fig.add_scatter()\n",
    "    fig.add_scatter()\n",
    "    fig.add_scatter()\n",
    "    return fig"
   ]
  },
  {
   "cell_type": "code",
   "execution_count": 3,
   "id": "e5a8f4c7-e89e-47c5-8fd4-24dfb34384ef",
   "metadata": {},
   "outputs": [],
   "source": [
    "figs = {\n",
    "    'data1': create_fig(),\n",
    "    'data2': create_fig(),\n",
    "}"
   ]
  },
  {
   "cell_type": "code",
   "execution_count": 4,
   "id": "333699c5-e991-425f-b66b-80dc26deefe5",
   "metadata": {},
   "outputs": [
    {
     "data": {
      "application/vnd.jupyter.widget-view+json": {
       "model_id": "d7df99f2a5a24a28bf68b2717a21abb4",
       "version_major": 2,
       "version_minor": 0
      },
      "text/plain": [
       "FigureWidget({\n",
       "    'data': [{'type': 'scatter', 'uid': 'a813d9a0-e15c-4408-820b-b859e9e213c8'},\n",
       "             {'type': 'scatter', 'uid': '0348271b-5cd8-4abb-aae4-201ce67e241b'},\n",
       "             {'type': 'scatter', 'uid': '8258a9e8-dc21-4479-96a7-2460a216c8bc'}],\n",
       "    'layout': {'template': '...'}\n",
       "})"
      ]
     },
     "execution_count": 4,
     "metadata": {},
     "output_type": "execute_result"
    }
   ],
   "source": [
    "figs['data1']"
   ]
  },
  {
   "cell_type": "code",
   "execution_count": 5,
   "id": "f1bcaa80-9b5b-490b-9bc9-be69744de710",
   "metadata": {},
   "outputs": [
    {
     "data": {
      "application/vnd.jupyter.widget-view+json": {
       "model_id": "c97bd6e1cb40442fadeaa82dd155ac40",
       "version_major": 2,
       "version_minor": 0
      },
      "text/plain": [
       "FigureWidget({\n",
       "    'data': [{'type': 'scatter', 'uid': '328da39c-72dc-471d-98e4-00c981e97221'},\n",
       "             {'type': 'scatter', 'uid': 'bc6fc17a-3338-4af3-a1fd-bcee1de9641e'},\n",
       "             {'type': 'scatter', 'uid': '0653175f-424a-4ac4-ab6c-09e0c0c31b1d'}],\n",
       "    'layout': {'template': '...'}\n",
       "})"
      ]
     },
     "execution_count": 5,
     "metadata": {},
     "output_type": "execute_result"
    }
   ],
   "source": [
    "figs['data2']"
   ]
  },
  {
   "cell_type": "code",
   "execution_count": null,
   "id": "dcbc3915-bafd-4430-974d-c66d4db684d7",
   "metadata": {},
   "outputs": [],
   "source": [
    "rpm_values, maf_values = [], []\n",
    "\n",
    "while True:\n",
    "    time.sleep(0.2)\n",
    "    rpm = obd.commands.RPM.value\n",
    "    maf = obd.commands.MAF.value\n",
    "\n",
    "    print(f'{rpm=}, {maf=}')\n",
    "    rpm_values.append(rpm)\n",
    "    maf_values.append(maf)\n",
    "\n",
    "    figs['data1'].data[0].y = rpm_values[:i]\n",
    "    figs['data1'].data[1].y = maf_values[:i]\n",
    "    figs['data2'].data[0].y = rpm_values[:i]\n",
    "    figs['data2'].data[0].x = maf_values[:i]\n"
   ]
  },
  {
   "cell_type": "code",
   "execution_count": null,
   "id": "e91c4cab-8fb7-4b9d-b834-c53b16728519",
   "metadata": {},
   "outputs": [],
   "source": [
    "\n",
    "\n",
    "\n",
    "\n",
    "\n"
   ]
  },
  {
   "cell_type": "code",
   "execution_count": 6,
   "id": "a9cf71de-c2fb-4f27-b638-22df4f0f48e0",
   "metadata": {
    "scrolled": true
   },
   "outputs": [],
   "source": [
    "def draw(data1, data2):\n",
    "    for i in range(len(data1)):\n",
    "        time.sleep(0.05)\n",
    "        \n",
    "        figs['data1'].data[0].y = data1[:i]\n",
    "        figs['data1'].data[1].y = data2[:i]\n",
    "        figs['data2'].data[0].y = data1[:i]\n",
    "        figs['data2'].data[0].x = data2[:i]"
   ]
  },
  {
   "cell_type": "code",
   "execution_count": null,
   "id": "ca07e4d5-068f-4f48-a8bd-3584763533f4",
   "metadata": {},
   "outputs": [],
   "source": []
  }
 ],
 "metadata": {
  "kernelspec": {
   "display_name": "Python 3 (ipykernel)",
   "language": "python",
   "name": "python3"
  },
  "language_info": {
   "codemirror_mode": {
    "name": "ipython",
    "version": 3
   },
   "file_extension": ".py",
   "mimetype": "text/x-python",
   "name": "python",
   "nbconvert_exporter": "python",
   "pygments_lexer": "ipython3",
   "version": "3.9.2"
  }
 },
 "nbformat": 4,
 "nbformat_minor": 5
}

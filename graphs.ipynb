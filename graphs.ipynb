{
 "cells": [
  {
   "cell_type": "code",
   "execution_count": 82,
   "id": "5bd11fd5-1d40-406a-8c7e-d63e05a2d232",
   "metadata": {},
   "outputs": [],
   "source": [
    "import time\n",
    "import plotly.graph_objects as go\n",
    "\n",
    "data1 = list(range(100))\n",
    "data2 = list(range(50, 100))+[210]*50"
   ]
  },
  {
   "cell_type": "code",
   "execution_count": 83,
   "id": "a48359bf-0760-4c7d-973f-4a0aecbf432d",
   "metadata": {},
   "outputs": [],
   "source": [
    "def create_fig():\n",
    "    fig = go.FigureWidget()\n",
    "    fig.add_scatter()\n",
    "    fig.add_scatter()\n",
    "    fig.add_scatter()\n",
    "    return fig"
   ]
  },
  {
   "cell_type": "code",
   "execution_count": 89,
   "id": "e5a8f4c7-e89e-47c5-8fd4-24dfb34384ef",
   "metadata": {},
   "outputs": [],
   "source": [
    "figs = {\n",
    "    'data1': create_fig(),\n",
    "    'data2': create_fig(),\n",
    "}"
   ]
  },
  {
   "cell_type": "code",
   "execution_count": 90,
   "id": "333699c5-e991-425f-b66b-80dc26deefe5",
   "metadata": {},
   "outputs": [
    {
     "data": {
      "application/vnd.jupyter.widget-view+json": {
       "model_id": "25dbcad1f4ec4cbab2dff0f48363f251",
       "version_major": 2,
       "version_minor": 0
      },
      "text/plain": [
       "FigureWidget({\n",
       "    'data': [{'type': 'scatter', 'uid': '420ed6df-e4dc-4e67-aa71-f62f37abee0a'},\n",
       "             {'type': 'scatter', 'uid': '102adff3-2cdd-495c-826a-837ba29cfd64'},\n",
       "             {'type': 'scatter', 'uid': '27035333-539b-47e1-ab40-b231ac7bf0ec'}],\n",
       "    'layout': {'template': '...'}\n",
       "})"
      ]
     },
     "execution_count": 90,
     "metadata": {},
     "output_type": "execute_result"
    }
   ],
   "source": [
    "figs['data1']"
   ]
  },
  {
   "cell_type": "code",
   "execution_count": 91,
   "id": "f1bcaa80-9b5b-490b-9bc9-be69744de710",
   "metadata": {},
   "outputs": [
    {
     "data": {
      "application/vnd.jupyter.widget-view+json": {
       "model_id": "b87148554c934e349a85cff8732d4b8a",
       "version_major": 2,
       "version_minor": 0
      },
      "text/plain": [
       "FigureWidget({\n",
       "    'data': [{'type': 'scatter', 'uid': '072f30a3-02e9-4652-bd67-9abaabbd08d6'},\n",
       "             {'type': 'scatter', 'uid': 'e807e7d4-2ff9-4521-8747-4b49870ac2fb'},\n",
       "             {'type': 'scatter', 'uid': 'b6fa6e4b-aaf0-4443-be72-d932c69e5c79'}],\n",
       "    'layout': {'template': '...'}\n",
       "})"
      ]
     },
     "execution_count": 91,
     "metadata": {},
     "output_type": "execute_result"
    }
   ],
   "source": [
    "figs['data2']"
   ]
  },
  {
   "cell_type": "code",
   "execution_count": 92,
   "id": "a9cf71de-c2fb-4f27-b638-22df4f0f48e0",
   "metadata": {
    "scrolled": true
   },
   "outputs": [],
   "source": [
    "def draw(data1, data2):\n",
    "    for i in range(len(data1)):\n",
    "        time.sleep(0.05)\n",
    "        \n",
    "        figs['data1'].data[0].y = data1[:i]\n",
    "        figs['data1'].data[1].y = data2[:i]\n",
    "        figs['data2'].data[0].y = data1[:i]\n",
    "        figs['data2'].data[0].x = data2[:i]"
   ]
  },
  {
   "cell_type": "code",
   "execution_count": 93,
   "id": "77b574c0-16d5-40e5-b076-91fa774d54db",
   "metadata": {},
   "outputs": [],
   "source": [
    "draw(data1, data2)"
   ]
  },
  {
   "cell_type": "code",
   "execution_count": null,
   "id": "7681a64b-2d29-42b3-8971-d2e5f92faf07",
   "metadata": {},
   "outputs": [],
   "source": []
  }
 ],
 "metadata": {
  "kernelspec": {
   "display_name": "Python 3 (ipykernel)",
   "language": "python",
   "name": "python3"
  },
  "language_info": {
   "codemirror_mode": {
    "name": "ipython",
    "version": 3
   },
   "file_extension": ".py",
   "mimetype": "text/x-python",
   "name": "python",
   "nbconvert_exporter": "python",
   "pygments_lexer": "ipython3",
   "version": "3.12.3"
  }
 },
 "nbformat": 4,
 "nbformat_minor": 5
}
